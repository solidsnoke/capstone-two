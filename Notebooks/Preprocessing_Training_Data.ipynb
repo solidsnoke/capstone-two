{
 "cells": [
  {
   "cell_type": "code",
   "execution_count": 21,
   "id": "80c43380",
   "metadata": {},
   "outputs": [
    {
     "data": {
      "text/html": [
       "<div>\n",
       "<style scoped>\n",
       "    .dataframe tbody tr th:only-of-type {\n",
       "        vertical-align: middle;\n",
       "    }\n",
       "\n",
       "    .dataframe tbody tr th {\n",
       "        vertical-align: top;\n",
       "    }\n",
       "\n",
       "    .dataframe thead th {\n",
       "        text-align: right;\n",
       "    }\n",
       "</style>\n",
       "<table border=\"1\" class=\"dataframe\">\n",
       "  <thead>\n",
       "    <tr style=\"text-align: right;\">\n",
       "      <th></th>\n",
       "      <th>country</th>\n",
       "      <th>iso_code</th>\n",
       "      <th>year</th>\n",
       "      <th>population</th>\n",
       "      <th>gdp</th>\n",
       "      <th>cement_co2</th>\n",
       "      <th>cement_co2_per_capita</th>\n",
       "      <th>co2</th>\n",
       "      <th>co2_growth_abs</th>\n",
       "      <th>co2_growth_prct</th>\n",
       "      <th>...</th>\n",
       "      <th>share_global_luc_co2</th>\n",
       "      <th>share_global_oil_co2</th>\n",
       "      <th>share_of_temperature_change_from_ghg</th>\n",
       "      <th>temperature_change_from_ch4</th>\n",
       "      <th>temperature_change_from_co2</th>\n",
       "      <th>temperature_change_from_ghg</th>\n",
       "      <th>temperature_change_from_n2o</th>\n",
       "      <th>total_ghg</th>\n",
       "      <th>total_ghg_excluding_lucf</th>\n",
       "      <th>co2_change</th>\n",
       "    </tr>\n",
       "  </thead>\n",
       "  <tbody>\n",
       "    <tr>\n",
       "      <th>0</th>\n",
       "      <td>Afghanistan</td>\n",
       "      <td>AFG</td>\n",
       "      <td>1990</td>\n",
       "      <td>12045664.0</td>\n",
       "      <td>1.306598e+10</td>\n",
       "      <td>0.046</td>\n",
       "      <td>0.004</td>\n",
       "      <td>2.024</td>\n",
       "      <td>-0.741</td>\n",
       "      <td>-26.784</td>\n",
       "      <td>...</td>\n",
       "      <td>0.003</td>\n",
       "      <td>0.014</td>\n",
       "      <td>0.094</td>\n",
       "      <td>0.0</td>\n",
       "      <td>0.0</td>\n",
       "      <td>0.001</td>\n",
       "      <td>0.0</td>\n",
       "      <td>13.892</td>\n",
       "      <td>4.218</td>\n",
       "      <td>NaN</td>\n",
       "    </tr>\n",
       "    <tr>\n",
       "      <th>1</th>\n",
       "      <td>Afghanistan</td>\n",
       "      <td>AFG</td>\n",
       "      <td>1991</td>\n",
       "      <td>12238879.0</td>\n",
       "      <td>1.204736e+10</td>\n",
       "      <td>0.046</td>\n",
       "      <td>0.004</td>\n",
       "      <td>1.914</td>\n",
       "      <td>-0.110</td>\n",
       "      <td>-5.435</td>\n",
       "      <td>...</td>\n",
       "      <td>0.000</td>\n",
       "      <td>0.012</td>\n",
       "      <td>0.092</td>\n",
       "      <td>0.0</td>\n",
       "      <td>0.0</td>\n",
       "      <td>0.001</td>\n",
       "      <td>0.0</td>\n",
       "      <td>14.178</td>\n",
       "      <td>4.207</td>\n",
       "      <td>-0.054348</td>\n",
       "    </tr>\n",
       "    <tr>\n",
       "      <th>2</th>\n",
       "      <td>Afghanistan</td>\n",
       "      <td>AFG</td>\n",
       "      <td>1992</td>\n",
       "      <td>13278982.0</td>\n",
       "      <td>1.267754e+10</td>\n",
       "      <td>0.046</td>\n",
       "      <td>0.003</td>\n",
       "      <td>1.482</td>\n",
       "      <td>-0.432</td>\n",
       "      <td>-22.580</td>\n",
       "      <td>...</td>\n",
       "      <td>-0.032</td>\n",
       "      <td>0.011</td>\n",
       "      <td>0.090</td>\n",
       "      <td>0.0</td>\n",
       "      <td>0.0</td>\n",
       "      <td>0.001</td>\n",
       "      <td>0.0</td>\n",
       "      <td>12.514</td>\n",
       "      <td>3.853</td>\n",
       "      <td>-0.225705</td>\n",
       "    </tr>\n",
       "    <tr>\n",
       "      <th>3</th>\n",
       "      <td>Afghanistan</td>\n",
       "      <td>AFG</td>\n",
       "      <td>1993</td>\n",
       "      <td>14943174.0</td>\n",
       "      <td>9.834582e+09</td>\n",
       "      <td>0.047</td>\n",
       "      <td>0.003</td>\n",
       "      <td>1.487</td>\n",
       "      <td>0.005</td>\n",
       "      <td>0.330</td>\n",
       "      <td>...</td>\n",
       "      <td>-0.082</td>\n",
       "      <td>0.011</td>\n",
       "      <td>0.089</td>\n",
       "      <td>0.0</td>\n",
       "      <td>0.0</td>\n",
       "      <td>0.001</td>\n",
       "      <td>0.0</td>\n",
       "      <td>11.804</td>\n",
       "      <td>4.021</td>\n",
       "      <td>0.003374</td>\n",
       "    </tr>\n",
       "    <tr>\n",
       "      <th>4</th>\n",
       "      <td>Afghanistan</td>\n",
       "      <td>AFG</td>\n",
       "      <td>1994</td>\n",
       "      <td>16250799.0</td>\n",
       "      <td>7.919857e+09</td>\n",
       "      <td>0.047</td>\n",
       "      <td>0.003</td>\n",
       "      <td>1.454</td>\n",
       "      <td>-0.033</td>\n",
       "      <td>-2.227</td>\n",
       "      <td>...</td>\n",
       "      <td>-0.059</td>\n",
       "      <td>0.011</td>\n",
       "      <td>0.087</td>\n",
       "      <td>0.0</td>\n",
       "      <td>0.0</td>\n",
       "      <td>0.001</td>\n",
       "      <td>0.0</td>\n",
       "      <td>12.282</td>\n",
       "      <td>4.159</td>\n",
       "      <td>-0.022192</td>\n",
       "    </tr>\n",
       "  </tbody>\n",
       "</table>\n",
       "<p>5 rows × 68 columns</p>\n",
       "</div>"
      ],
      "text/plain": [
       "       country iso_code  year  population           gdp  cement_co2  \\\n",
       "0  Afghanistan      AFG  1990  12045664.0  1.306598e+10       0.046   \n",
       "1  Afghanistan      AFG  1991  12238879.0  1.204736e+10       0.046   \n",
       "2  Afghanistan      AFG  1992  13278982.0  1.267754e+10       0.046   \n",
       "3  Afghanistan      AFG  1993  14943174.0  9.834582e+09       0.047   \n",
       "4  Afghanistan      AFG  1994  16250799.0  7.919857e+09       0.047   \n",
       "\n",
       "   cement_co2_per_capita    co2  co2_growth_abs  co2_growth_prct  ...  \\\n",
       "0                  0.004  2.024          -0.741          -26.784  ...   \n",
       "1                  0.004  1.914          -0.110           -5.435  ...   \n",
       "2                  0.003  1.482          -0.432          -22.580  ...   \n",
       "3                  0.003  1.487           0.005            0.330  ...   \n",
       "4                  0.003  1.454          -0.033           -2.227  ...   \n",
       "\n",
       "   share_global_luc_co2  share_global_oil_co2  \\\n",
       "0                 0.003                 0.014   \n",
       "1                 0.000                 0.012   \n",
       "2                -0.032                 0.011   \n",
       "3                -0.082                 0.011   \n",
       "4                -0.059                 0.011   \n",
       "\n",
       "   share_of_temperature_change_from_ghg  temperature_change_from_ch4  \\\n",
       "0                                 0.094                          0.0   \n",
       "1                                 0.092                          0.0   \n",
       "2                                 0.090                          0.0   \n",
       "3                                 0.089                          0.0   \n",
       "4                                 0.087                          0.0   \n",
       "\n",
       "   temperature_change_from_co2  temperature_change_from_ghg  \\\n",
       "0                          0.0                        0.001   \n",
       "1                          0.0                        0.001   \n",
       "2                          0.0                        0.001   \n",
       "3                          0.0                        0.001   \n",
       "4                          0.0                        0.001   \n",
       "\n",
       "   temperature_change_from_n2o  total_ghg  total_ghg_excluding_lucf  \\\n",
       "0                          0.0     13.892                     4.218   \n",
       "1                          0.0     14.178                     4.207   \n",
       "2                          0.0     12.514                     3.853   \n",
       "3                          0.0     11.804                     4.021   \n",
       "4                          0.0     12.282                     4.159   \n",
       "\n",
       "   co2_change  \n",
       "0         NaN  \n",
       "1   -0.054348  \n",
       "2   -0.225705  \n",
       "3    0.003374  \n",
       "4   -0.022192  \n",
       "\n",
       "[5 rows x 68 columns]"
      ]
     },
     "execution_count": 21,
     "metadata": {},
     "output_type": "execute_result"
    }
   ],
   "source": [
    "import pandas as pd\n",
    "from sklearn.model_selection import train_test_split\n",
    "from sklearn.preprocessing import StandardScaler\n",
    "\n",
    "# Load cleaned dataset\n",
    "df = pd.read_csv(\"/Users/rasheedmehrinfar/Desktop/springboard/capstone-two/Data/cleaned_co2_data.csv\")\n",
    "df.head()"
   ]
  },
  {
   "cell_type": "markdown",
   "id": "1afaaaca",
   "metadata": {},
   "source": [
    "## Step 1: Drop Unused Columns"
   ]
  },
  {
   "cell_type": "code",
   "execution_count": 38,
   "id": "d90b6b40",
   "metadata": {},
   "outputs": [],
   "source": [
    "df_model = df.copy()\n",
    "target = 'co2'\n",
    "# Drop identifier/redundant columns\n",
    "cols_to_drop = ['iso_code', 'co2_change'] \n",
    "df_model = df_model.drop(columns=cols_to_drop)"
   ]
  },
  {
   "cell_type": "markdown",
   "id": "e39bb31d-aa6c-43db-8dbf-7307dcab2f6f",
   "metadata": {},
   "source": [
    "iso_code is just an identifier and co2_change is a derivative of your target (co2) and would leak information into the model effecting training.\n",
    "\n",
    "This step ensures that only independent variables remain."
   ]
  },
  {
   "cell_type": "markdown",
   "id": "b90b2be8",
   "metadata": {},
   "source": [
    "## Step 2: Encode Categorical Variables"
   ]
  },
  {
   "cell_type": "code",
   "execution_count": 41,
   "id": "a8d0e0a1",
   "metadata": {},
   "outputs": [],
   "source": [
    "# Convert country into dummy variables\n",
    "df_model = pd.get_dummies(df_model, columns=['country'], drop_first=True)"
   ]
  },
  {
   "cell_type": "markdown",
   "id": "db9bbdf9-b2e0-4404-a8bd-2e96c707651e",
   "metadata": {},
   "source": [
    "Most ML models can't handle text or categorical data like 'country'.\n",
    "\n",
    "Dummy encoding turns 'country' into binary flags.\n",
    "\n",
    "drop_first=True prevents multicollinearity (also called the dummy variable trap)."
   ]
  },
  {
   "cell_type": "markdown",
   "id": "15cf386b",
   "metadata": {},
   "source": [
    "## Step 3: Split Features and Target"
   ]
  },
  {
   "cell_type": "code",
   "execution_count": 44,
   "id": "9918c094",
   "metadata": {},
   "outputs": [],
   "source": [
    "X = df_model.drop(columns=[target])\n",
    "y = df_model[target]"
   ]
  },
  {
   "cell_type": "markdown",
   "id": "6674434f-00b7-47bd-acbb-43ccaf2eee47",
   "metadata": {},
   "source": [
    "Clearly separates your input variables (X) from your target (y) which is what the model will learn to predict."
   ]
  },
  {
   "cell_type": "markdown",
   "id": "3397b8e3",
   "metadata": {},
   "source": [
    "## Step 4: Feature Scaling"
   ]
  },
  {
   "cell_type": "code",
   "execution_count": 47,
   "id": "4217ccdb",
   "metadata": {},
   "outputs": [],
   "source": [
    "scaler = StandardScaler()\n",
    "X_scaled = scaler.fit_transform(X)\n",
    "X_scaled = pd.DataFrame(X_scaled, columns=X.columns)"
   ]
  },
  {
   "cell_type": "markdown",
   "id": "de19fc28-72ec-44cd-a3ec-d207375c47f6",
   "metadata": {},
   "source": [
    "CO₂, GDP, and population have very different scales.\n",
    "Many models are sensitive to scale.\n",
    "\n",
    "Without scaling, features with large values will dominate model learning."
   ]
  },
  {
   "cell_type": "markdown",
   "id": "cd60be98",
   "metadata": {},
   "source": [
    "## Step 5: Train-Test Split"
   ]
  },
  {
   "cell_type": "code",
   "execution_count": 50,
   "id": "09951cfe",
   "metadata": {},
   "outputs": [
    {
     "data": {
      "text/plain": [
       "((5848, 278), (1462, 278), (5848,), (1462,))"
      ]
     },
     "execution_count": 50,
     "metadata": {},
     "output_type": "execute_result"
    }
   ],
   "source": [
    "X_train, X_test, y_train, y_test = train_test_split(\n",
    "    X_scaled, y, test_size=0.2, random_state=42\n",
    ")\n",
    "\n",
    "# Confirm shapes\n",
    "X_train.shape, X_test.shape, y_train.shape, y_test.shape"
   ]
  },
  {
   "cell_type": "markdown",
   "id": "29200649-50a7-4ca2-b46e-64140961f514",
   "metadata": {},
   "source": [
    "Separates data into:\n",
    "\n",
    "- Training set: what the model learns from\n",
    "- Test set: what we use to evaluate how well the model performs on unseen data\n",
    "\n",
    "This prevents overfitting and ensures our evaluation is fair and unbiased, and model performance reflects real-world utility."
   ]
  }
 ],
 "metadata": {
  "kernelspec": {
   "display_name": "Python 3 (ipykernel)",
   "language": "python",
   "name": "python3"
  },
  "language_info": {
   "codemirror_mode": {
    "name": "ipython",
    "version": 3
   },
   "file_extension": ".py",
   "mimetype": "text/x-python",
   "name": "python",
   "nbconvert_exporter": "python",
   "pygments_lexer": "ipython3",
   "version": "3.12.4"
  }
 },
 "nbformat": 4,
 "nbformat_minor": 5
}
